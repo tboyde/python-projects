{
  "nbformat": 4,
  "nbformat_minor": 0,
  "metadata": {
    "colab": {
      "name": "Animal Quiz - Python Challenge.ipynb",
      "provenance": [],
      "collapsed_sections": [],
      "include_colab_link": true
    },
    "kernelspec": {
      "display_name": "Python 3",
      "name": "python3"
    },
    "language_info": {
      "name": "python"
    }
  },
  "cells": [
    {
      "cell_type": "markdown",
      "metadata": {
        "id": "view-in-github",
        "colab_type": "text"
      },
      "source": [
        "<a href=\"https://colab.research.google.com/github/tboyde/python-projects/blob/main/Animal_Quiz_Python.ipynb\" target=\"_parent\"><img src=\"https://colab.research.google.com/assets/colab-badge.svg\" alt=\"Open In Colab\"/></a>"
      ]
    },
    {
      "cell_type": "code",
      "metadata": {
        "colab": {
          "base_uri": "https://localhost:8080/"
        },
        "id": "1ZZLz65a0QSp",
        "outputId": "1effd0fe-36e9-4b31-acd4-2341ba263c2b"
      },
      "source": [
        "print('Welcome to the random animal quiz! Let us do a quick assessment of your animal knowledge')\n",
        "answer=input('Are you ready to play? (yes/no) :')\n",
        "\n",
        "if answer.lower()=='yes':\n",
        "    answer=input('Question 1: How long is the gestation period for an elephant? ')\n",
        "    if answer.lower()=='twenty two months' or '22 months':\n",
        "        print('correct')\n",
        "    else:\n",
        "        print('Wrong Answer :(')\n",
        " \n",
        "    answer=input('Question 2: Does a bee have five eyes? True or False ')\n",
        "    if answer.lower()=='true':\n",
        "        print('correct')\n",
        "    else:\n",
        "        print('Wrong Answer :(')\n",
        " \n",
        "    answer=input('Question 3: Which insect is a sign for good luck in Europe? ')\n",
        "    if answer.lower()=='ladybug':\n",
        "        print('correct')\n",
        "    else:\n",
        "        print('Wrong Answer :(')\n",
        "\n",
        "    answer=input('Question 4: What are groups of frogs called? ')\n",
        "    if answer.lower()=='army' or 'an army':\n",
        "        print('correct')\n",
        "    else:\n",
        "        print('Wrong Answer :(')\n",
        "\n",
        "    answer=input('Question 5: Which animals have fingerprints that are similar to humans? ')\n",
        "    if answer.lower()=='koala' or 'koalas':\n",
        "        print('correct')\n",
        "    else:\n",
        "        print('Wrong Answer :(')\n",
        "\n",
        "    answer=input('Question 6: Do sponges have a cardiovascular system? True or False ')\n",
        "    if answer.lower()=='false':\n",
        "        print('correct')\n",
        "    else:\n",
        "        print('Wrong Answer :(')\n",
        "\n",
        "    answer=input('Question 7: What is the longest that a snail can sleep? ')\n",
        "    if answer.lower()=='3 years' or 'three years':\n",
        "        print('correct')\n",
        "    else:\n",
        "        print('Wrong Answer :(')\n",
        "\n",
        "    answer=input('Question 8: Which animal is incapable of jumping? ')\n",
        "    if answer.lower()=='elephant':\n",
        "        print('correct')\n",
        "    else:\n",
        "        print('Wrong Answer :(')\n",
        "\n",
        "    answer=input('Question 9: How many cups of milk is a cow able to produced within its lifetime? Please enter a numerical value ')\n",
        "    if answer.lower()=='200,000':\n",
        "        print('correct')\n",
        "    else:\n",
        "        print('Wrong Answer :(')\n",
        "\n",
        "    answer=input('Question 10: Cheetahs spend 90% of their lifetime sitting? True or False ')\n",
        "    if answer.lower()=='true':\n",
        "        print('correct')\n",
        "    else:\n",
        "        print('Wrong Answer :(')\n",
        "    print('Thank you for Playing this quiz game!')\n",
        "\n",
        "\n",
        "if answer.lower()=='no':\n",
        "  print('\\nNo worries! We can always play next time :-)')\n",
        "\n",
        "print('BYE!')"
      ],
      "execution_count": null,
      "outputs": [
        {
          "output_type": "stream",
          "name": "stdout",
          "text": [
            "Welcome to the random animal quiz! Let us do a quick assessment of your animal knowledge\n",
            "Are you ready to play? (yes/no) :no\n",
            "\n",
            "No worries! We can always play next time :-)\n",
            "BYE!\n"
          ]
        }
      ]
    }
  ]
}